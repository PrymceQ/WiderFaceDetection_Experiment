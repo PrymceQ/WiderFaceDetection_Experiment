{
 "cells": [
  {
   "cell_type": "code",
   "execution_count": 1,
   "metadata": {},
   "outputs": [],
   "source": [
    "import pandas as pd\n",
    "from PIL import ImageDraw,Image,ImageFont\n",
    "import matplotlib.pyplot as plt\n",
    "import pickle\n",
    "import os"
   ]
  },
  {
   "cell_type": "code",
   "execution_count": 4,
   "metadata": {},
   "outputs": [],
   "source": [
    "image_id = 152  # 15. 152. 300\n",
    "image_file = '../Datasets/widerface_YOLO/images/val'\n",
    "image_list = os.listdir(image_file)\n",
    "bbox_file = open(r\"./CascadeRCNN/predict.pkl\",\"rb\")\n",
    "\n",
    "# Find Image\n",
    "img = Image.open(f'{image_file}/{str(image_list[image_id])}')\n",
    "width, height = img.width, img.height\n",
    "draw = ImageDraw.Draw(img)\n",
    "\n",
    "# Load bbox\n",
    "data = pickle.load(bbox_file)\n",
    "bbox_info = data[image_id][0]\n",
    "\n",
    "\n",
    "for i in bbox_info:\n",
    "    # print(i)\n",
    "    x_min, y_min, x_max, y_max, conf = i\n",
    "\n",
    "    draw.rectangle([x_min,y_min,x_max,y_max], outline='red', width=2)\n",
    "    draw.text((x_min,y_min-20), str(round(conf, 2)), font=ImageFont.truetype('SIMLI.TTF',20),fill='red') # draw.text((x_min,y_min-20), str('face'), font=ImageFont.truetype('SIMLI.TTF',20),fill='red') \n",
    "\n",
    "img.show()\n",
    "img.save('./1.png')"
   ]
  },
  {
   "cell_type": "code",
   "execution_count": null,
   "metadata": {},
   "outputs": [],
   "source": []
  }
 ],
 "metadata": {
  "kernelspec": {
   "display_name": "Python 3.8.5 ('base')",
   "language": "python",
   "name": "python3"
  },
  "language_info": {
   "codemirror_mode": {
    "name": "ipython",
    "version": 3
   },
   "file_extension": ".py",
   "mimetype": "text/x-python",
   "name": "python",
   "nbconvert_exporter": "python",
   "pygments_lexer": "ipython3",
   "version": "3.8.5"
  },
  "orig_nbformat": 4,
  "vscode": {
   "interpreter": {
    "hash": "c4012971ec14703d4f4fb623ef66de65c80f37e7105b36eebf5e5977c8c8cb53"
   }
  }
 },
 "nbformat": 4,
 "nbformat_minor": 2
}
