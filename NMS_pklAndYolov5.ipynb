{
 "cells": [
  {
   "cell_type": "code",
   "execution_count": null,
   "metadata": {},
   "outputs": [],
   "source": [
    "import numpy as np\n",
    "import pickle\n",
    "import os\n",
    "from PIL import ImageDraw,Image,ImageFont"
   ]
  },
  {
   "cell_type": "code",
   "execution_count": null,
   "metadata": {},
   "outputs": [],
   "source": [
    "def nms(dets, thresh):\n",
    "    # 所有box的坐标信息。注意这里是数组而不是列表\n",
    "    # x1 y1 左上角角坐标；  x2 y2 右下角坐标\n",
    "    x1 = dets[:, 0]\n",
    "    y1 = dets[:, 1]\n",
    "    x2 = dets[:, 2]\n",
    "    y2 = dets[:, 3]\n",
    "    scores = dets[:, 4]\n",
    "\n",
    "    # 计算出所有box的面积;图片评分（置信度）按降序排序\n",
    "    areas = (x2 - x1 + 1) * (y2 - y1 + 1)\n",
    "    order = scores.argsort()[::-1]  # 注意这里orders是边界框的索引\n",
    "\n",
    "    # 保留最后需要保留的边框的索引\n",
    "    keep = []\n",
    "    while order.size > 0:\n",
    "        # order[0]是目前置信度最大的，肯定保留; i是还未处理的图片中的最大评分索引\n",
    "        i = order[0]\n",
    "        # 保留改图片的值\n",
    "        keep.append(i)\n",
    "\n",
    "        # 计算窗口i与其他窗口的交叠的面积\n",
    "        xx1 = np.maximum(x1[i], x1[order[1:]])\n",
    "        yy1 = np.maximum(y1[i], y1[order[1:]])\n",
    "        xx2 = np.minimum(x2[i], x2[order[1:]])\n",
    "        yy2 = np.minimum(y2[i], y2[order[1:]])\n",
    "\n",
    "        # 计算相交框的面积,不相交时用0代替\n",
    "        w = np.maximum(0.0, xx2 - xx1 + 1)\n",
    "        h = np.maximum(0.0, yy2 - yy1 + 1)\n",
    "        inter = w * h\n",
    "\n",
    "        # 计算IOU：相交的面积/相并的面积\n",
    "        ovr = inter / (areas[i] + areas[order[1:]] - inter)\n",
    "\n",
    "        # 只保留比例小于阙值的box，然后继续处理,因为这可能是另外一个目标\n",
    "        inds = np.where(ovr < thresh)[0]\n",
    "        order = order[inds + 1]\n",
    "\n",
    "    return keep"
   ]
  },
  {
   "cell_type": "code",
   "execution_count": 4,
   "metadata": {},
   "outputs": [],
   "source": [
    "# YOLO-V5\n",
    "file_from_yolom = './yoloyoloface/runs/detect/m/labels'\n",
    "# RCNN_MMDetection_pkl\n",
    "pkl_from_RCNN = './RCNN/FasterRCNN/fasterRCNN_result.pkl'\n",
    "data_pkl = pickle.load(open(pkl_from_RCNN,\"rb\"))\n",
    "\n",
    "# image file\n",
    "img_file = f'./Datasets/widerface_YOLO/images/val'\n",
    "image_list = os.listdir(img_file)\n",
    "\n",
    "#阈值 越高越不会合并\n",
    "thresh = 0.75\n",
    "\n",
    "# 记录一些YOLOV5没有检测出框的文件名\n",
    "notfound_list = []\n",
    "# 最后的结果\n",
    "result_keeped = []\n",
    "\n",
    "for idx, i in enumerate(image_list):\n",
    "    # record result\n",
    "    result_t = []\n",
    "    \n",
    "    img_name = image_list[idx].split('.')[0]\n",
    "\n",
    "    # img_yolo_info\n",
    "    img_jpg = f'./Datasets/widerface_YOLO/images/val/{img_name}.jpg'\n",
    "    box_from_yolom = f'./yoloyoloface/runs/detect/m/labels/{img_name}.txt'\n",
    "    img = Image.open(img_jpg)\n",
    "    width, height = img.width, img.height\n",
    "\n",
    "    try:\n",
    "        with open(box_from_yolom, mode='r',encoding='utf-8') as f:\n",
    "            line = f.read().splitlines()\n",
    "            for i in line:\n",
    "                _, center_x, center_y, w, h = map(float, i.split(' '))\n",
    "\n",
    "                x_min, y_min, x_max, y_max = center_x - 0.5*w, center_y - 0.5*h , center_x + 0.5*w, center_y + 0.5*h\n",
    "                x_min, y_min, x_max, y_max = x_min*width, y_min*height, x_max*width, y_max*height \n",
    "                result_t.append([x_min, y_min, x_max, y_max, 1.0])\n",
    "    except FileNotFoundError:\n",
    "        # do nothing\n",
    "        notfound_list.append(box_from_yolom)\n",
    "\n",
    "    # RCNN_info\n",
    "    for i in data_pkl[idx][0]:\n",
    "        result_t.append(list(i))\n",
    "        \n",
    "    # NMS 进行mmdetection结果与YOLOV5结果的合并NMS\n",
    "    result_t = np.array(result_t).reshape(-1,5)\n",
    "    keep_dets = nms(result_t, thresh)\n",
    "    result_keeped.append([result_t[keep_dets]])"
   ]
  },
  {
   "cell_type": "code",
   "execution_count": 6,
   "metadata": {},
   "outputs": [],
   "source": [
    "save_file = open('./after_NMS_{}.pkl'.format(thresh), 'wb')\n",
    "pickle.dump(result_keeped, save_file)"
   ]
  }
 ],
 "metadata": {
  "kernelspec": {
   "display_name": "Python 3.8.5 ('base')",
   "language": "python",
   "name": "python3"
  },
  "language_info": {
   "codemirror_mode": {
    "name": "ipython",
    "version": 3
   },
   "file_extension": ".py",
   "mimetype": "text/x-python",
   "name": "python",
   "nbconvert_exporter": "python",
   "pygments_lexer": "ipython3",
   "version": "3.8.5"
  },
  "orig_nbformat": 4,
  "vscode": {
   "interpreter": {
    "hash": "c4012971ec14703d4f4fb623ef66de65c80f37e7105b36eebf5e5977c8c8cb53"
   }
  }
 },
 "nbformat": 4,
 "nbformat_minor": 2
}
