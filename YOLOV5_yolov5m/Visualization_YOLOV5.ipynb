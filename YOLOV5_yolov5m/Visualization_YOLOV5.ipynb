{
 "cells": [
  {
   "cell_type": "code",
   "execution_count": 2,
   "metadata": {},
   "outputs": [],
   "source": [
    "import pandas as pd\n",
    "from PIL import ImageDraw,Image,ImageFont\n",
    "import matplotlib.pyplot as plt"
   ]
  },
  {
   "cell_type": "code",
   "execution_count": 3,
   "metadata": {},
   "outputs": [],
   "source": [
    "img_name = '12--Group_12_Group_Large_Group_12_Group_Large_Group_12_315' # image_name\n",
    "\n",
    "box_from_m = f'./runs/detect/m/labels/{img_name}.txt'  # label.txt\n",
    "\n",
    "img_file = f'../Datasets/widerface_YOLO/images/val/{img_name}.jpg'\n",
    "\n",
    "\n",
    "\n",
    "img = Image.open(img_file)\n",
    "width, height = img.width, img.height\n",
    "\n",
    "draw = ImageDraw.Draw(img)\n",
    "\n",
    "with open(box_from_m, mode='r',encoding='utf-8') as f:\n",
    "        line = f.read().splitlines()\n",
    "        for i in line:\n",
    "            _, center_x, center_y, w, h = map(float, i.split(' '))\n",
    "\n",
    "            x_min, y_min, x_max, y_max = center_x - 0.5*w, center_y - 0.5*h , center_x + 0.5*w, center_y + 0.5*h\n",
    "            x_min, y_min, x_max, y_max = x_min*width, y_min*height, x_max*width, y_max*height \n",
    "\n",
    "            \n",
    "            draw.rectangle([x_min,y_min,x_max,y_max], outline='red', width=2)\n",
    "            # draw.text((x_min,y_min-20), str('face'), font=ImageFont.truetype('SIMLI.TTF',20),fill='red')\n",
    "\n",
    "img.show()\n",
    "img.save('./1.png')"
   ]
  }
 ],
 "metadata": {
  "kernelspec": {
   "display_name": "Python ('base')",
   "language": "python",
   "name": "python3"
  },
  "language_info": {
   "codemirror_mode": {
    "name": "ipython",
    "version": 3
   },
   "file_extension": ".py",
   "mimetype": "text/x-python",
   "name": "python",
   "nbconvert_exporter": "python",
   "pygments_lexer": "ipython3",
   "version": "3.8.5"
  },
  "orig_nbformat": 4,
  "vscode": {
   "interpreter": {
    "hash": "c4012971ec14703d4f4fb623ef66de65c80f37e7105b36eebf5e5977c8c8cb53"
   }
  }
 },
 "nbformat": 4,
 "nbformat_minor": 2
}
