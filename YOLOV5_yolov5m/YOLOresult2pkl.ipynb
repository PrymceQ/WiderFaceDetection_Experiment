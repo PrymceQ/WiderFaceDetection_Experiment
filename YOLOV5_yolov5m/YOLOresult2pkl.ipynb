{
 "cells": [
  {
   "cell_type": "code",
   "execution_count": 8,
   "metadata": {},
   "outputs": [],
   "source": [
    "import numpy as np\n",
    "import pickle\n",
    "import os\n",
    "from PIL import Image"
   ]
  },
  {
   "cell_type": "code",
   "execution_count": null,
   "metadata": {},
   "outputs": [],
   "source": [
    "# RCNN_MMDetection_pkl\n",
    "pkl_from_RCNN = './RCNN/FasterRCNN/fasterRCNN_result.pkl'\n",
    "data_pkl = pickle.load(open(pkl_from_RCNN,\"rb\"))\n"
   ]
  },
  {
   "cell_type": "code",
   "execution_count": 15,
   "metadata": {},
   "outputs": [],
   "source": [
    "# YOLO-V5\n",
    "file_from_yolom = './runs/detect/m/labels'\n",
    "\n",
    "# image file\n",
    "img_file = f'../Datasets/widerface_YOLO/images/val'\n",
    "image_list = os.listdir(img_file)\n",
    "\n",
    "pkl_out = []\n",
    "notfound_list = []\n",
    "\n",
    "for idx, i in enumerate(image_list):\n",
    "    # record result\n",
    "    result_t = []\n",
    "    \n",
    "    img_name = image_list[idx].split('.')[0]\n",
    "\n",
    "    # img_yolo_info\n",
    "    img_jpg = f'../Datasets/widerface_YOLO/images/val/{img_name}.jpg'\n",
    "    box_from_yolom = f'./runs/detect/m/labels/{img_name}.txt'\n",
    "    img = Image.open(img_jpg)\n",
    "    width, height = img.width, img.height\n",
    "\n",
    "    try:\n",
    "        with open(box_from_yolom, mode='r',encoding='utf-8') as f:\n",
    "            line = f.read().splitlines()\n",
    "            for i in line:\n",
    "                _, center_x, center_y, w, h = map(float, i.split(' '))\n",
    "\n",
    "                x_min, y_min, x_max, y_max = center_x - 0.5*w, center_y - 0.5*h , center_x + 0.5*w, center_y + 0.5*h\n",
    "                x_min, y_min, x_max, y_max = x_min*width, y_min*height, x_max*width, y_max*height \n",
    "                result_t.append([x_min, y_min, x_max, y_max, 1.0])\n",
    "    except FileNotFoundError:\n",
    "        # do nothing\n",
    "        notfound_list.append(box_from_yolom)\n",
    "\n",
    "    result_t = np.array(result_t)\n",
    "    pkl_out.append([result_t])"
   ]
  },
  {
   "cell_type": "code",
   "execution_count": 11,
   "metadata": {},
   "outputs": [],
   "source": [
    "save_file = open('./yolo_result.pkl', 'wb')\n",
    "pickle.dump(pkl_out, save_file)"
   ]
  }
 ],
 "metadata": {
  "kernelspec": {
   "display_name": "Python 3.8.5 ('base')",
   "language": "python",
   "name": "python3"
  },
  "language_info": {
   "codemirror_mode": {
    "name": "ipython",
    "version": 3
   },
   "file_extension": ".py",
   "mimetype": "text/x-python",
   "name": "python",
   "nbconvert_exporter": "python",
   "pygments_lexer": "ipython3",
   "version": "3.8.5"
  },
  "orig_nbformat": 4,
  "vscode": {
   "interpreter": {
    "hash": "c4012971ec14703d4f4fb623ef66de65c80f37e7105b36eebf5e5977c8c8cb53"
   }
  }
 },
 "nbformat": 4,
 "nbformat_minor": 2
}
